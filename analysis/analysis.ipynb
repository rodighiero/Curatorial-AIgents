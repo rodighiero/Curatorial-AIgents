{
 "metadata": {
  "language_info": {
   "codemirror_mode": {
    "name": "ipython",
    "version": 3
   },
   "file_extension": ".py",
   "mimetype": "text/x-python",
   "name": "python",
   "nbconvert_exporter": "python",
   "pygments_lexer": "ipython3",
   "version": "3.8.5-final"
  },
  "orig_nbformat": 2,
  "kernelspec": {
   "name": "python38564bit1c0613d7f4634bdf89929eaebf98a80a",
   "display_name": "Python 3.8.5 64-bit"
  }
 },
 "nbformat": 4,
 "nbformat_minor": 2,
 "cells": [
  {
   "cell_type": "code",
   "execution_count": 19,
   "metadata": {},
   "outputs": [],
   "source": [
    "import pandas\n",
    "import numpy\n",
    "import spacy\n",
    "import sys\n",
    "import math\n",
    "\n",
    "nlp = spacy.load('en_core_web_lg')"
   ]
  },
  {
   "cell_type": "code",
   "execution_count": 20,
   "metadata": {},
   "outputs": [
    {
     "output_type": "execute_result",
     "data": {
      "text/plain": "211483"
     },
     "metadata": {},
     "execution_count": 20
    }
   ],
   "source": [
    "# Merge tables\n",
    "\n",
    "ham = pandas.read_csv(\"../data/Object-2020-03-06.csv\",\n",
    "    usecols=[\"ObjectID\", \"Title\"])\n",
    "\n",
    "scraping = pandas.read_csv(\"../data/scraping.csv\",\n",
    "    usecols=[\"ObjectID\", \"IIIF\"])\n",
    "\n",
    "ham.columns = [\"id\", \"title\"]\n",
    "scraping.columns = [\"id\", \"IIIF\"]\n",
    "\n",
    "data = pandas.merge(ham, scraping, on=\"id\", how=\"inner\")\n",
    "\n",
    "len(data.index)\n"
   ]
  },
  {
   "cell_type": "code",
   "execution_count": 21,
   "metadata": {},
   "outputs": [
    {
     "output_type": "execute_result",
     "data": {
      "text/plain": "211"
     },
     "metadata": {},
     "execution_count": 21
    }
   ],
   "source": [
    "# Eventually reducing for testing\n",
    "\n",
    "random = data.sample(frac=.999)\n",
    "data = data.drop(random.index)\n",
    "\n",
    "len(data)"
   ]
  },
  {
   "cell_type": "code",
   "execution_count": 22,
   "metadata": {
    "tags": []
   },
   "outputs": [
    {
     "output_type": "stream",
     "name": "stdout",
     "text": "Art Theory Text with Sketch\nPostcard\nSea-star\n[Architectural study, New York]\n[\"Fried Geese,\" two women on ship deck]\n[Julia Feininger outside Petersen's cottage, Falls Village, Connecticut]\nIndustrial Problems, Coöperation: Italy. Rome. Unione Militare: Social Conditions in Rome, Italy: 1905: Main establishment: Unione Militare: Rome.\nCharity, Public: United States. New York. Owego: Tioga County Almshouse: Almshouses of Tioga County, N.Y.: Unused Buildings\nCrime, Children, Reform Schools: United States. New York. New York City. Randall's Island, House of Refuge: New York City Home of Refuge, Randall's Island (State Society for the Reformation of Juvenile Delinquents): Shops\nCharity, Children: United States. New York. Troy. Orphan Asylum: Orphan Asylum, Troy, N.Y.\nAR Postumus\n[Andreas Feininger with watering can]\n[Rustic half-timber farm building with thatched roof]\n[\"The Grutzturm,\" 1928, oil painting by Lyonel Feininger]\nSeal of Euphemianos imperial protospatharios and strategos of Hellas (VIII/IX c.)\n[Cattle on road near Falls Village, Connecticut]\n[Sheet music]\n[Horse and rider sculpture on mantel]\n[Laurence and Julia Feininger with unidentified man in Berlin]\n[Aboard S.S. Pennsylvania]\n[Onboard the S.S. Pennsylvania in the Panama Canal]\nPage from an album of embroidered Chrysanthemums\nCourt of Justinian at Ravenna\n[Watercolor by Lyonel Feininger, 1952]\nCompetition Entry for the Hagen Engineering School, Hagen, 1929\nTobacco Box and Lid\n\"Furnishings and Interior\" 1913-14 Mendel, Berlin\nPrefabricated Copper Houses, 1931-1932\nFactory and Office Building for Werkbund Exhibition, Cologne, 1914\n[Watercolor by Lyonel Feininger, 1942]\nMissing Child: Meteorite\nArretine Bowl (reproduction)\nTetradrachm of Sardis\nHousing, Conditions: United States. Pennsylvannia. Pittsburgh. Houses; Streets; Yards: Environment After Immigration, Perpeptuation of European Standards in America. Housing Conditions, Pittsburgh, Pa.: Butch Alley: Showing conditions in unpaved alleys.\nTwo Women Embracing a Bouquet, or Perhaps a Pineapple\nAnonymous Follis\nCoin of Leo IV\nHorn cup and pedestal stand\nSmall sherd\nCeres Sends Triptolemus to Establish Agriculture\nSeasonal Genre Scenes (Fūzoku zukan): Autumn in the Pleasure Quarter\nThe Sistine Madonna, after Raphael\nFlorida Christmas\nUntitled (Buddhist statue, Japan)\nTeisai's Ghost (Teisaiga: Bakemono gacho)\nAlbum leaf\nUntitled (group of people in meadow around men in military uniforms on horseback, line of cannons, U.S. flags along perimeter of hill)\nUntitled (three men in front of map)\nUntitled (man with dead game birds, dog and rifle)\nUntitled (people on boat next to shore)\nUntitled (Conditional Surrender monument)\nUntitled (Pine View School Fair: young women dancing in a line)\nUntitled (model of Lido Harbour Towers)\nUntitled (man painting portrait of couple)\nUntitled (man presenting award to cub scout)\nUntitled (woman and two men sitting at tables during Christmas ball)\nUntitled (eight children and baby standing next to fence on outdoor patio as parents look on)\nUntitled (bride posed looking in mirror next to piano)\nUntitled (family standing on porch)\nUntitled (boy kicking a football with prosthetic leg)\nUntitled (man photographing boy scouts)\nUntitled (exterior of Snow Crop Juice Industries factory)\nUntitled (photograph of man in two seated automobile at intersection of Derry and Londonderry, N.H.)\nUntitled (two seated men in suits, table with food and coffee)\nUntitled (Joe Lipscomb's Mobilgas Station)\nUntitled (two of four oldest members of Methodist Church)\nUntitled (cake with cross on top)\nChalice\nUntitled (park scene)\nWashington St. So. of Broadway\nSocial Settlements: Great Britain, Scotland. Stornoway. \"Social Institute\": Social Institute, Stornoway, Scotland.\nRecreation, Parks and Playgrounds: United States. New York. New York City. Brooklyn, Vacation Playground, Public School No. 45: New York City Public Schools. Examples of the Adaptation of Education to Special City Needs: Public School No. 45 Brooklyn. Vacation Playgrounds.\nUntitled (attempts at shoeing a mule)\nThe N. E. Ridge of Koshtantau, Central Caucasus\nBluff Opposite Big Horn Camp, Black Canon, Colorado River\nThe Arkansas Valley at Salida, South\nChildren in a Democracy\nUntitled (older woman in rocking chair)\nUntitled [Siemenstadt]\nUntitled [Siemensstadt, Lenther Steig]\nUntitled [Boat with Sails]\nUntitled [Town with Windmill]\nTen-sided Bowl with High Foot\n\nOffice and Factory Buildings, Cali, Colombia, 1945: Revised plot plan (1\" =100')\nStudies from Gropius' Berlin Office: Description of standardization of drawings\nGropius Residence, Lincoln, Massachusetts, 1938: Perspective\nBahner Residence, Berlin, Klein-Machnow, 1933: Window: details, 1:1\nCompetition Entry for \"Growing House\" for \"Sun, Air, and House for All\" Exhibition, Berlin, 1932: North elevation\nHousing Development, Berlin-Wannsee, 1930-1931: Sketch of plan\nCoin of Chersonasos\nFurniture Designs, 1929-1932: Bachelor's room: plan and wall elevations, 1:20\nKohō-an, Daitoku-ji, Kyoto\nMountain Stream\nCoin of Venusia\nC. Dixon Spangler, Jr. and Meredith Riggs Spangler\nSmall Stem Cup with Flaring Lip and Elongated Stem of Truncated Triangular Form\nSquare with Aphrodite\nCoin of Seleukeia ad Kalykadnos\nCoin of Maroneia under the Romans\nJohn in Sixteen Parts (Part #1, Top Row #1)\nCoin of Antiochos VI Dionysos of Syria\nAntoninianus of Probus\nCoin of Unitkesken (Emporion), Hispania\nGrosh of John Asen II of Bulgaria\nSestertius of Gordianus III\nDenarius of Caracalla\nCoin of Seleukos II of Syria\nUntitled (steel strike, Warren, Ohio)\nUntitled (San Gennaro Festival, Mulberry Street, New York City)\nAttic Drachm of Rhegion\nDekadrachm of Akragas\nCowboy Ballads\nAs of Caligula, Rome\nPrinted Greater Sutra of the Perfection of Wisdom (S: Mahâprajnâpâramitâ-sūtra ; J: Dai-hannya-haramitta-kyō), Volume 517, Vol. 6\nSmall, Wide-Mouthed Jar with Tortoiseshell Glaze\nElongated Bottle with Short Neck, Angled Shoulders, Herringbone Decoration, and Shell Impressions\nFragment of a Circular, Eaves-End Roof Tile with Cloud-Scroll Decor\nOne of the Gidayū Recited for the 17th Anniversary of Yoridayu's Father's Death by Members of tithe Toryri Group\nCourtesan as Tōbōsaku (Dongfang Shuo), from the series Courtesans Viewed as the Immortals of Ressenden, One of Seven (Keisei mitate Ressenden, shichiban no uchi)\nPrinted Lotus Sutra (Hokke-kyō) vol. 7 with Handwritten Commentaries\nTitle-page with Jeweled Pendants in the Form of Sea Monsters, with Apollo, Venus and Neptune\nFragment of a Kurdish Carpet, pair with 1943.1728\nOne of a pair of Embroidered Escutcheons\nTEXTILE\nBowl with inscription around the interior\nEnamelled Fragment\nDrawing of a Portal (pounce)\nUntitled, from the series \"Collezione di grafica\"\nRoad from Niedergrunstedt\nOne of 28 slides of prints\nAround the Tea Table\nThe Dancer Anita Berber\nPoster for a Munich Exhibition\nMadonna and Child\nThe Seventh Day, from the portfolio \"The Transformations of God\"\nSeated Woman with Tambourine\nBauhaus Wallpaper Sample\nRhode Island Pasture\nSaint Gregory of Nanzianus\nEntrance of Monseigneur Henry de Lorraine:  the Salamander\nThe Gold-Weighers\nView of the Area of Saint Petersburg\nConflagration in the Port of Bordeaux\nJacob's Departure from Laban\nGeorge Heriot\nBrig Run Aground in the Breakers\nCharles Le Brun\nElijah Carried to Heaven in a Chariot of Fire\nMadonna and Child\nCathedral of Cologne\nHead #1\nA Man Sitting and His Donkey\nVenus and Cupid\nAlameen-Ben Mohammed el Kanemy, sheikh of Bornou\n[View of] Trent seen from the Road to Vezzano\nQuarry outside out Rome\nIllustration IX\nCostumes from Rocca di Papa\nN\nCrossing the Sea by Means of a Spell\nSettlers Offering Food\nCastles in England\nMan with Spring Plants\nMark of Froben\nLetter V\nLetter N\nThe quays; winter. Paris\nStill Life\nArles/Miami\nThe Angel Departing from the Family of Tobias\nOld Port, Marseilles\nHerd of Cows Coming from the Woods\nHarbor Scene with Rising Sun\nA Landscape, with Peasants and Cattle (The Colosseum and the Arch of Septimius Severus are seen in the distance.  Claude himself also is represented drawing.)\nJacques Gabriel Grillot\nParson Wells and his Wife\nMadonna of the Palm\nPenitent Magdalen\nGreat Stag Hunt\nAmbrogio, marquis de Spinola\nJean Cocteau, fumant une cigarette avant la scène de la résurrection, carrière des Baux\nUntitled (waterfall and buildings)\nScene at Indian Payment, Odanah, Wisconsin (734)\nAmulet in Form of a Fish in Relief, possibly early Christian\nAn Allegory of Peace Restraining War, a Dove Above; verso: Fleur de lis and Trefoil Designs\nHead of a Boy; verso: Sketches of Two Female Heads and a Lute\nNobles Worshipping Before a Crucifix\nSt. Luke\nThe Head of a Boy; verso: Foreshortened Head and Torso\nBack cover of \"The Heavenly Palaces: Merkabah\"\nUntitled (Marion, Ohio)\nUntitled (Jersey Homesteads, New Jersey)\nHarriet Newell Lowell (1821-1901)\nCaroline Hunt Rimmer in Parlor at Home\nRobert C. Winthrop (1809 - 1894)\nUntitled\nSketch of the Base of Cellini's \"Perseus,\" Loggia dei Lanzi, Florence\nStanding Male Figure\nSocial Settlements: United States. District of Columbia. Washington. \"Social Settlement\": The Social Settlement, Washington, D.C.: Here lessons in housework are given. Partly furnished with articles made from boxes.\nCrime, Prisons: United States. New Hampshire. Portsmouth. Rockingham County Jail: New Hampshire State Charitable and Correctional Institutions.: Rockingham County Jail. Portsmouth, New Hampshire.\nArmenise Foundation, Plaque Commemorating the Establishment of the\nUntitled (two soldiers inside control room of ship, Vietnam)\nUntitled (two Vietnamese men studying diagrams on a chalkboard, Vietnam)\nBattle Scene (painting, recto), Text (verso), illustrated folio (199) from a Partial Manuscript of the Zafarnama by Sharaf al-Din `Ali Yazdi\nUntitled (soldier lying on back on deck looking into large pipe, Vietnam)\nUntitled (Oakland)\nPlayground of Crockett Elementary School, where I attended grades 1-7\nNear Aspen, Colorado\nX-radiograph(s) of \"Rest on Flight\"\nSawing motion with the arms\nMinting, Molding Tools and Wind Furnace for Gold\n"
    },
    {
     "output_type": "execute_result",
     "data": {
      "text/plain": "         id                                              title       IIIF  \\\n0      5446                        Art Theory Text with Sketch   20221244   \n1      5508                                           Postcard   18829481   \n2      9179                                           Sea-star   15911392   \n3      9956                    [Architectural study, New York]   15510949   \n4     10712            [\"Fried Geese,\" two women on ship deck]   17389243   \n..      ...                                                ...        ...   \n206  332451  Playground of Crockett Elementary School, wher...   13809216   \n207  336268                               Near Aspen, Colorado   18270763   \n208  346105                X-radiograph(s) of \"Rest on Flight\"   45576133   \n209  348570                        Sawing motion with the arms   48374085   \n210  358602   Minting, Molding Tools and Wind Furnace for Gold  436791424   \n\n                                                   nlp  \n0                    (Art, Theory, Text, with, Sketch)  \n1                                           (Postcard)  \n2                                       (Sea, -, star)  \n3           ([, Architectural, study, ,, New, York, ])  \n4    ([, \", Fried, Geese, ,, \", two, women, on, shi...  \n..                                                 ...  \n206  (Playground, of, Crockett, Elementary, School,...  \n207                         (Near, Aspen, ,, Colorado)  \n208  (X, -, radiograph(s, ), of, \", Rest, on, Fligh...  \n209                  (Sawing, motion, with, the, arms)  \n210  (Minting, ,, Molding, Tools, and, Wind, Furnac...  \n\n[211 rows x 4 columns]",
      "text/html": "<div>\n<style scoped>\n    .dataframe tbody tr th:only-of-type {\n        vertical-align: middle;\n    }\n\n    .dataframe tbody tr th {\n        vertical-align: top;\n    }\n\n    .dataframe thead th {\n        text-align: right;\n    }\n</style>\n<table border=\"1\" class=\"dataframe\">\n  <thead>\n    <tr style=\"text-align: right;\">\n      <th></th>\n      <th>id</th>\n      <th>title</th>\n      <th>IIIF</th>\n      <th>nlp</th>\n    </tr>\n  </thead>\n  <tbody>\n    <tr>\n      <th>0</th>\n      <td>5446</td>\n      <td>Art Theory Text with Sketch</td>\n      <td>20221244</td>\n      <td>(Art, Theory, Text, with, Sketch)</td>\n    </tr>\n    <tr>\n      <th>1</th>\n      <td>5508</td>\n      <td>Postcard</td>\n      <td>18829481</td>\n      <td>(Postcard)</td>\n    </tr>\n    <tr>\n      <th>2</th>\n      <td>9179</td>\n      <td>Sea-star</td>\n      <td>15911392</td>\n      <td>(Sea, -, star)</td>\n    </tr>\n    <tr>\n      <th>3</th>\n      <td>9956</td>\n      <td>[Architectural study, New York]</td>\n      <td>15510949</td>\n      <td>([, Architectural, study, ,, New, York, ])</td>\n    </tr>\n    <tr>\n      <th>4</th>\n      <td>10712</td>\n      <td>[\"Fried Geese,\" two women on ship deck]</td>\n      <td>17389243</td>\n      <td>([, \", Fried, Geese, ,, \", two, women, on, shi...</td>\n    </tr>\n    <tr>\n      <th>...</th>\n      <td>...</td>\n      <td>...</td>\n      <td>...</td>\n      <td>...</td>\n    </tr>\n    <tr>\n      <th>206</th>\n      <td>332451</td>\n      <td>Playground of Crockett Elementary School, wher...</td>\n      <td>13809216</td>\n      <td>(Playground, of, Crockett, Elementary, School,...</td>\n    </tr>\n    <tr>\n      <th>207</th>\n      <td>336268</td>\n      <td>Near Aspen, Colorado</td>\n      <td>18270763</td>\n      <td>(Near, Aspen, ,, Colorado)</td>\n    </tr>\n    <tr>\n      <th>208</th>\n      <td>346105</td>\n      <td>X-radiograph(s) of \"Rest on Flight\"</td>\n      <td>45576133</td>\n      <td>(X, -, radiograph(s, ), of, \", Rest, on, Fligh...</td>\n    </tr>\n    <tr>\n      <th>209</th>\n      <td>348570</td>\n      <td>Sawing motion with the arms</td>\n      <td>48374085</td>\n      <td>(Sawing, motion, with, the, arms)</td>\n    </tr>\n    <tr>\n      <th>210</th>\n      <td>358602</td>\n      <td>Minting, Molding Tools and Wind Furnace for Gold</td>\n      <td>436791424</td>\n      <td>(Minting, ,, Molding, Tools, and, Wind, Furnac...</td>\n    </tr>\n  </tbody>\n</table>\n<p>211 rows × 4 columns</p>\n</div>"
     },
     "metadata": {},
     "execution_count": 22
    }
   ],
   "source": [
    "# Tokens\n",
    "\n",
    "array = []\n",
    "\n",
    "for i, row in data.iterrows():\n",
    "    # print(title)\n",
    "    value = nlp(row[\"title\"])\n",
    "    array.append(value)\n",
    "    print(value)\n",
    "\n",
    "dataFrame = pandas.DataFrame({\"nlp\": array})\n",
    "data = pandas.DataFrame(numpy.hstack([data, dataFrame]))\n",
    "\n",
    "data.columns = [\"id\", \"title\", \"IIIF\",\"nlp\"]\n",
    "\n",
    "data\n"
   ]
  },
  {
   "cell_type": "code",
   "execution_count": 23,
   "metadata": {},
   "outputs": [],
   "source": [
    "# Cleaning\n",
    "\n",
    "# del data[\"text\"]\n",
    "# del data[\"title\"]\n",
    "# data[\"key\"] = \"key\""
   ]
  },
  {
   "cell_type": "code",
   "execution_count": 24,
   "metadata": {},
   "outputs": [],
   "source": [
    "# Pairs\n",
    "\n",
    "# relations = pd.merge(data, data, on=\"key\")\n",
    "# del relations[\"key\"]\n",
    "# relations = relations.loc[(relations.id_x < relations.id_y)]"
   ]
  },
  {
   "cell_type": "code",
   "execution_count": 25,
   "metadata": {
    "tags": []
   },
   "outputs": [],
   "source": [
    "# Similarity\n",
    "\n",
    "# array = []\n",
    "\n",
    "# for i, row in relations.iterrows():\n",
    "#     value = row[\"nlp_x\"].similarity(row[\"nlp_y\"])\n",
    "#     array.append(value)\n",
    "\n",
    "# dataFrame = pd.DataFrame({\"similarity\": array})\n",
    "# relations = pd.DataFrame(numpy.hstack([relations, dataFrame]))\n",
    "# relations.columns = [\"id_1\", \"nlp_1\", \"id_2\", \"nlp_2\", \"similarity\"]\n",
    "# del relations[\"nlp_1\"]\n",
    "# del relations[\"nlp_2\"]\n",
    "\n",
    "# print(relations)\n",
    "\n",
    "# relations.to_csv(\"relations.csv\")"
   ]
  }
 ]
}