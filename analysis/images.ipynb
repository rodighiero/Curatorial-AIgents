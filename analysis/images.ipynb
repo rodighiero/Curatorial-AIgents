{
 "metadata": {
  "language_info": {
   "codemirror_mode": {
    "name": "ipython",
    "version": 3
   },
   "file_extension": ".py",
   "mimetype": "text/x-python",
   "name": "python",
   "nbconvert_exporter": "python",
   "pygments_lexer": "ipython3",
   "version": "3.8.5-final"
  },
  "orig_nbformat": 2,
  "kernelspec": {
   "name": "python38564bit215515f3c30f476aa6072c73b548fd3c",
   "display_name": "Python 3.8.5 64-bit"
  }
 },
 "nbformat": 4,
 "nbformat_minor": 2,
 "cells": [
  {
   "cell_type": "code",
   "execution_count": 24,
   "metadata": {},
   "outputs": [],
   "source": [
    "import os\n",
    "import csv"
   ]
  },
  {
   "cell_type": "code",
   "execution_count": 25,
   "metadata": {},
   "outputs": [
    {
     "output_type": "execute_result",
     "data": {
      "text/plain": "197086"
     },
     "metadata": {},
     "execution_count": 25
    }
   ],
   "source": [
    "entries = os.listdir('../../Surprise-Machines-Data/images')\n",
    "len(entries)"
   ]
  },
  {
   "cell_type": "code",
   "execution_count": 26,
   "metadata": {},
   "outputs": [],
   "source": [
    "with open(\"images.csv\", \"w+\") as my_csv:\n",
    "    csvWriter = csv.writer(my_csv, delimiter=\",\")\n",
    "    csvWriter.writerow(entries)"
   ]
  }
 ]
}