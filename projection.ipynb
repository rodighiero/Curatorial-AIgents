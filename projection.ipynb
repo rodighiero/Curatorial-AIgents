{
 "cells": [
  {
   "cell_type": "code",
   "execution_count": 2,
   "metadata": {},
   "outputs": [],
   "source": [
    "import networkx as nx\n",
    "import matplotlib.pyplot as plt\n",
    "import numpy as np\n",
    "import pandas as pd"
   ]
  },
  {
   "cell_type": "code",
   "execution_count": 4,
   "metadata": {},
   "outputs": [
    {
     "output_type": "execute_result",
     "data": {
      "text/plain": "              id    id_1    id_2  similarity\n0              0    4603    4839    0.977362\n1              1    4603    4865    0.976024\n2              2    4603    4867    0.982244\n3              3    4603   50822    0.933298\n4              4    4603   52860    0.957965\n...          ...     ...     ...         ...\n1014593  1014593  351071  351348    0.982145\n1014594  1014594  351071  352314    0.978362\n1014595  1014595  351341  351348    0.957808\n1014596  1014596  351341  352314    0.968210\n1014597  1014597  351348  352314    0.966820\n\n[1014598 rows x 4 columns]",
      "text/html": "<div>\n<style scoped>\n    .dataframe tbody tr th:only-of-type {\n        vertical-align: middle;\n    }\n\n    .dataframe tbody tr th {\n        vertical-align: top;\n    }\n\n    .dataframe thead th {\n        text-align: right;\n    }\n</style>\n<table border=\"1\" class=\"dataframe\">\n  <thead>\n    <tr style=\"text-align: right;\">\n      <th></th>\n      <th>id</th>\n      <th>id_1</th>\n      <th>id_2</th>\n      <th>similarity</th>\n    </tr>\n  </thead>\n  <tbody>\n    <tr>\n      <th>0</th>\n      <td>0</td>\n      <td>4603</td>\n      <td>4839</td>\n      <td>0.977362</td>\n    </tr>\n    <tr>\n      <th>1</th>\n      <td>1</td>\n      <td>4603</td>\n      <td>4865</td>\n      <td>0.976024</td>\n    </tr>\n    <tr>\n      <th>2</th>\n      <td>2</td>\n      <td>4603</td>\n      <td>4867</td>\n      <td>0.982244</td>\n    </tr>\n    <tr>\n      <th>3</th>\n      <td>3</td>\n      <td>4603</td>\n      <td>50822</td>\n      <td>0.933298</td>\n    </tr>\n    <tr>\n      <th>4</th>\n      <td>4</td>\n      <td>4603</td>\n      <td>52860</td>\n      <td>0.957965</td>\n    </tr>\n    <tr>\n      <th>...</th>\n      <td>...</td>\n      <td>...</td>\n      <td>...</td>\n      <td>...</td>\n    </tr>\n    <tr>\n      <th>1014593</th>\n      <td>1014593</td>\n      <td>351071</td>\n      <td>351348</td>\n      <td>0.982145</td>\n    </tr>\n    <tr>\n      <th>1014594</th>\n      <td>1014594</td>\n      <td>351071</td>\n      <td>352314</td>\n      <td>0.978362</td>\n    </tr>\n    <tr>\n      <th>1014595</th>\n      <td>1014595</td>\n      <td>351341</td>\n      <td>351348</td>\n      <td>0.957808</td>\n    </tr>\n    <tr>\n      <th>1014596</th>\n      <td>1014596</td>\n      <td>351341</td>\n      <td>352314</td>\n      <td>0.968210</td>\n    </tr>\n    <tr>\n      <th>1014597</th>\n      <td>1014597</td>\n      <td>351348</td>\n      <td>352314</td>\n      <td>0.966820</td>\n    </tr>\n  </tbody>\n</table>\n<p>1014598 rows × 4 columns</p>\n</div>"
     },
     "metadata": {},
     "execution_count": 4
    }
   ],
   "source": [
    "relations = pd.read_csv('relations.csv')\n",
    "relations"
   ]
  },
  {
   "cell_type": "code",
   "execution_count": 6,
   "metadata": {},
   "outputs": [],
   "source": [
    "G=nx.from_pandas_edgelist(relations, 'id_1', 'id_2',  ['similarity'])\n",
    "pos = nx.spring_layout(G)\n",
    "nx.draw(G, pos, with_labels=True, node_size=600, font_size= 24, alpha=0.5)\n",
    "publications = [i['similarity']*2 for i in dict(G.edges).values()]\n",
    "nx.draw_networkx_edge_labels(G, pos, width=publications, font_color='red')\n",
    "plt.show()\n"
   ]
  },
  {
   "cell_type": "code",
   "execution_count": null,
   "metadata": {},
   "outputs": [],
   "source": []
  }
 ],
 "metadata": {
  "language_info": {
   "codemirror_mode": {
    "name": "ipython",
    "version": 3
   },
   "file_extension": ".py",
   "mimetype": "text/x-python",
   "name": "python",
   "nbconvert_exporter": "python",
   "pygments_lexer": "ipython3",
   "version": "3.7.7-final"
  },
  "orig_nbformat": 2,
  "kernelspec": {
   "name": "python37764bitd8b89686007a44b0b587427ec3ce14a8",
   "display_name": "Python 3.7.7 64-bit"
  }
 },
 "nbformat": 4,
 "nbformat_minor": 2
}